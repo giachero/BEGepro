{
 "cells": [
  {
   "cell_type": "code",
   "execution_count": 1,
   "metadata": {},
   "outputs": [],
   "source": [
    "import numpy as np\n",
    "import matplotlib.pyplot as plt\n",
    "import calibrate as cl\n",
    "import histfit as hf"
   ]
  },
  {
   "cell_type": "code",
   "execution_count": 2,
   "metadata": {},
   "outputs": [
    {
     "data": {
      "text/plain": [
       "array([[2.31500000e+03, 2.31500000e+03, 4.29133589e+01, 1.85370881e-02],\n",
       "       [9.80000000e+01, 9.80000000e+01, 2.05589766e+00, 2.09785476e-02],\n",
       "       [3.21700000e+03, 3.21700000e+03, 4.97666864e+01, 1.54699056e-02],\n",
       "       ...,\n",
       "       [1.33000000e+03, 1.33000000e+03, 1.94586247e+01, 1.46305449e-02],\n",
       "       [2.89000000e+02, 2.89000000e+02, 5.82023660e+00, 2.01392270e-02],\n",
       "       [1.48700000e+03, 1.48700000e+03, 2.94316966e+01, 1.97926675e-02]])"
      ]
     },
     "execution_count": 2,
     "metadata": {},
     "output_type": "execute_result"
    }
   ],
   "source": [
    "data = np.load('../psd/MG-SS1491-im180321-ch.npy')\n",
    "data"
   ]
  },
  {
   "cell_type": "code",
   "execution_count": 3,
   "metadata": {},
   "outputs": [
    {
     "data": {
      "application/vnd.jupyter.widget-view+json": {
       "model_id": "c3576d1c56324247874200627cf0cd87",
       "version_major": 2,
       "version_minor": 0
      },
      "text/plain": [
       "Canvas(toolbar=Toolbar(toolitems=[('Home', 'Reset original view', 'home', 'home'), ('Back', 'Back to previous …"
      ]
     },
     "metadata": {},
     "output_type": "display_data"
    },
    {
     "data": {
      "text/plain": [
       "Text(0, 0.5, 'Counts')"
      ]
     },
     "execution_count": 3,
     "metadata": {},
     "output_type": "execute_result"
    }
   ],
   "source": [
    "%matplotlib widget\n",
    "plt.hist(data[:,0], bins=2**14, range=(0,2**14), histtype='step')\n",
    "plt.semilogy()\n",
    "plt.xlabel(r'ADC Channel')\n",
    "plt.ylabel(r'Counts')"
   ]
  },
  {
   "cell_type": "code",
   "execution_count": 4,
   "metadata": {},
   "outputs": [],
   "source": [
    "ph = {'241am1': (128.8, 1.7), '241am2': (291.0, 1.8), '137cs': (3231.9, 2.8),\n",
    "      '60co1': (5726.8, 3.6), '60co2': (6505.0, 3.7)}"
   ]
  },
  {
   "cell_type": "code",
   "execution_count": 11,
   "metadata": {},
   "outputs": [],
   "source": [
    "cal = cl.EnergyCalibration(ph)\n",
    "cal.set_polyorder(fnc='lin')#, initpars=[0,0.5])"
   ]
  },
  {
   "cell_type": "code",
   "execution_count": 12,
   "metadata": {},
   "outputs": [
    {
     "data": {
      "text/plain": [
       "{'chisq/ndf': 0.12500510510439808,\n",
       " 'p-value': 0.9453539823171291,\n",
       " 'opt': {'p0': (-0.08026331473464583, 0.09155504801238856),\n",
       "  'p1': (0.20484471475010166, 3.345029095861589e-05)}}"
      ]
     },
     "execution_count": 12,
     "metadata": {},
     "output_type": "execute_result"
    }
   ],
   "source": [
    "cal.calibrate()"
   ]
  },
  {
   "cell_type": "code",
   "execution_count": 10,
   "metadata": {},
   "outputs": [
    {
     "data": {
      "application/vnd.jupyter.widget-view+json": {
       "model_id": "892a78461040488d95b50b81494946f4",
       "version_major": 2,
       "version_minor": 0
      },
      "text/plain": [
       "Canvas(toolbar=Toolbar(toolitems=[('Home', 'Reset original view', 'home', 'home'), ('Back', 'Back to previous …"
      ]
     },
     "metadata": {},
     "output_type": "display_data"
    }
   ],
   "source": [
    "%matplotlib widget\n",
    "cal.plot_cal()"
   ]
  },
  {
   "cell_type": "code",
   "execution_count": 13,
   "metadata": {},
   "outputs": [
    {
     "data": {
      "text/plain": [
       "array([[2.31500000e+03, 4.74135251e+02, 4.29133589e+01, 1.85370881e-02],\n",
       "       [9.80000000e+01, 1.99945187e+01, 2.05589766e+00, 2.09785476e-02],\n",
       "       [3.21700000e+03, 6.58905184e+02, 4.97666864e+01, 1.54699056e-02],\n",
       "       ...,\n",
       "       [1.33000000e+03, 2.72363207e+02, 1.94586247e+01, 1.46305449e-02],\n",
       "       [2.89000000e+02, 5.91198592e+01, 5.82023660e+00, 2.01392270e-02],\n",
       "       [1.48700000e+03, 3.04523828e+02, 2.94316966e+01, 1.97926675e-02]])"
      ]
     },
     "execution_count": 13,
     "metadata": {},
     "output_type": "execute_result"
    }
   ],
   "source": [
    "calVec = cal.apply_cal(data=data)\n",
    "data"
   ]
  },
  {
   "cell_type": "code",
   "execution_count": 14,
   "metadata": {},
   "outputs": [
    {
     "data": {
      "application/vnd.jupyter.widget-view+json": {
       "model_id": "22c9e6027a5944ab986659f9fa416d3a",
       "version_major": 2,
       "version_minor": 0
      },
      "text/plain": [
       "Canvas(toolbar=Toolbar(toolitems=[('Home', 'Reset original view', 'home', 'home'), ('Back', 'Back to previous …"
      ]
     },
     "metadata": {},
     "output_type": "display_data"
    },
    {
     "data": {
      "text/plain": [
       "Text(0, 0.5, 'Counts')"
      ]
     },
     "execution_count": 14,
     "metadata": {},
     "output_type": "execute_result"
    }
   ],
   "source": [
    "%matplotlib widget\n",
    "c, e, p = plt.hist(data[:,1], bins=calVec, histtype='step')\n",
    "plt.semilogy()\n",
    "plt.xlabel(r'Energy [keV]')\n",
    "plt.ylabel(r'Counts')"
   ]
  },
  {
   "cell_type": "code",
   "execution_count": 15,
   "metadata": {},
   "outputs": [],
   "source": [
    "peak = hf.HistogramFitter(c, e)"
   ]
  },
  {
   "cell_type": "code",
   "execution_count": 29,
   "metadata": {},
   "outputs": [],
   "source": [
    "xlim = 640, 670\n",
    "\n",
    "shape = 'hyper'\n",
    "bkg = 'const'\n",
    "\n",
    "pars = {'ngaus': 10**6,\n",
    "        'mu'   : 659,\n",
    "        'sigma': 1,\n",
    "        'ntail': 10**3,\n",
    "        'ttail': 1.5,\n",
    "        'cstep': 50,\n",
    "        'p0'   : 10**1}"
   ]
  },
  {
   "cell_type": "code",
   "execution_count": 30,
   "metadata": {},
   "outputs": [],
   "source": [
    "peak.set_model((shape,bkg), xlim=xlim, initpars=pars)"
   ]
  },
  {
   "cell_type": "code",
   "execution_count": 31,
   "metadata": {},
   "outputs": [
    {
     "data": {
      "text/plain": [
       "{'chisq/ndf': 1.9182874765443625,\n",
       " 'p-value': 4.4508169559858256e-10,\n",
       " 'opt': {'ngaus': (111652.84607925451, 173.5047333750399),\n",
       "  'mu': (658.7755973865226, 0.0008822027976349577),\n",
       "  'sigma': (0.5717701398664832, 0.0006370076327987729),\n",
       "  'ntail': (1093.5056071345002, 80.90611075771595),\n",
       "  'ttail': (1.2957972638560673, 0.09467940139400209),\n",
       "  'cstep': (21.701814890829677, 0.8524045106985324),\n",
       "  'p0': (52.50383637150978, 1.0960513488359978)}}"
      ]
     },
     "execution_count": 31,
     "metadata": {},
     "output_type": "execute_result"
    }
   ],
   "source": [
    "peak.fit()"
   ]
  },
  {
   "cell_type": "code",
   "execution_count": 28,
   "metadata": {},
   "outputs": [],
   "source": [
    "peak.plot_fit()\n",
    "#peak.plot_components()"
   ]
  },
  {
   "cell_type": "code",
   "execution_count": 32,
   "metadata": {},
   "outputs": [
    {
     "data": {
      "text/plain": [
       "(112746.35168638901, 191.44109083862713)"
      ]
     },
     "execution_count": 32,
     "metadata": {},
     "output_type": "execute_result"
    }
   ],
   "source": [
    "peak.net_counts()"
   ]
  },
  {
   "cell_type": "code",
   "execution_count": 40,
   "metadata": {},
   "outputs": [
    {
     "data": {
      "text/plain": [
       "1.3540449875303011"
      ]
     },
     "execution_count": 40,
     "metadata": {},
     "output_type": "execute_result"
    }
   ],
   "source": [
    "peak.peak_width()"
   ]
  },
  {
   "cell_type": "code",
   "execution_count": null,
   "metadata": {},
   "outputs": [],
   "source": []
  }
 ],
 "metadata": {
  "kernelspec": {
   "display_name": "Python 3",
   "language": "python",
   "name": "python3"
  },
  "language_info": {
   "codemirror_mode": {
    "name": "ipython",
    "version": 3
   },
   "file_extension": ".py",
   "mimetype": "text/x-python",
   "name": "python",
   "nbconvert_exporter": "python",
   "pygments_lexer": "ipython3",
   "version": "3.8.10"
  }
 },
 "nbformat": 4,
 "nbformat_minor": 4
}
