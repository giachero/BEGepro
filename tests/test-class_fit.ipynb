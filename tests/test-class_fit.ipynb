{
 "cells": [
  {
   "cell_type": "code",
   "execution_count": 2,
   "metadata": {},
   "outputs": [],
   "source": [
    "import numpy as np\n",
    "import matplotlib.pyplot as plt\n",
    "import calibrate as cl\n",
    "import histfit as hf"
   ]
  },
  {
   "cell_type": "code",
   "execution_count": 3,
   "metadata": {},
   "outputs": [
    {
     "data": {
      "text/plain": [
       "array([[8.07000000e+02, 1.65941797e+02, 1.53386715e+01, 1.90070279e-02],\n",
       "       [8.37200000e+03, 1.72236490e+03, 1.53131295e+02, 1.82908856e-02],\n",
       "       [1.15800000e+03, 2.38156537e+02, 2.22603924e+01, 1.92231368e-02],\n",
       "       ...,\n",
       "       [1.15500000e+03, 2.37539317e+02, 1.66957852e+01, 1.44552253e-02],\n",
       "       [5.60000000e+02, 1.15124017e+02, 1.10829449e+01, 1.97909731e-02],\n",
       "       [2.03500000e+03, 4.18590517e+02, 3.87322759e+01, 1.90330594e-02]])"
      ]
     },
     "execution_count": 3,
     "metadata": {},
     "output_type": "execute_result"
    }
   ],
   "source": [
    "data = np.load('/home/marco/work/data/Std-232Th-3Bq-AEcalibration-im010421.npy')\n",
    "data"
   ]
  },
  {
   "cell_type": "code",
   "execution_count": 4,
   "metadata": {},
   "outputs": [
    {
     "data": {
      "text/plain": [
       "Text(0, 0.5, 'Counts')"
      ]
     },
     "execution_count": 4,
     "metadata": {},
     "output_type": "execute_result"
    },
    {
     "data": {
      "application/vnd.jupyter.widget-view+json": {
       "model_id": "f79f36319bc24f62a0b49e24db1e578d",
       "version_major": 2,
       "version_minor": 0
      },
      "text/html": [
       "\n",
       "            <div style=\"display: inline-block;\">\n",
       "                <div class=\"jupyter-widgets widget-label\" style=\"text-align: center;\">\n",
       "                    Figure\n",
       "                </div>\n",
       "                <img src='data:image/png;base64,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' width=640.0/>\n",
       "            </div>\n",
       "        "
      ],
      "text/plain": [
       "Canvas(toolbar=Toolbar(toolitems=[('Home', 'Reset original view', 'home', 'home'), ('Back', 'Back to previous …"
      ]
     },
     "metadata": {},
     "output_type": "display_data"
    }
   ],
   "source": [
    "%matplotlib widget\n",
    "plt.hist(data[:,0], bins=2**14, range=(0,2**14), histtype='step')\n",
    "plt.semilogy()\n",
    "plt.xlabel(r'ADC Channel')\n",
    "plt.ylabel(r'Counts')"
   ]
  },
  {
   "cell_type": "code",
   "execution_count": 4,
   "metadata": {},
   "outputs": [],
   "source": [
    "ph = {'241am1': (128.8, 1.7), '241am2': (291.0, 1.8), '137cs': (3231.9, 2.8),\n",
    "      '60co1': (5726.8, 3.6), '60co2': (6505.0, 3.7)}"
   ]
  },
  {
   "cell_type": "code",
   "execution_count": 1,
   "metadata": {},
   "outputs": [
    {
     "ename": "NameError",
     "evalue": "name 'cl' is not defined",
     "output_type": "error",
     "traceback": [
      "\u001b[0;31m---------------------------------------------------------------------------\u001b[0m",
      "\u001b[0;31mNameError\u001b[0m                                 Traceback (most recent call last)",
      "\u001b[0;32m/tmp/ipykernel_34924/4277538283.py\u001b[0m in \u001b[0;36m<module>\u001b[0;34m\u001b[0m\n\u001b[0;32m----> 1\u001b[0;31m \u001b[0mcal\u001b[0m \u001b[0;34m=\u001b[0m \u001b[0mcl\u001b[0m\u001b[0;34m.\u001b[0m\u001b[0mEnergyCalibration\u001b[0m\u001b[0;34m(\u001b[0m\u001b[0mph\u001b[0m\u001b[0;34m)\u001b[0m\u001b[0;34m\u001b[0m\u001b[0;34m\u001b[0m\u001b[0m\n\u001b[0m\u001b[1;32m      2\u001b[0m \u001b[0mcal\u001b[0m\u001b[0;34m.\u001b[0m\u001b[0mset_polyorder\u001b[0m\u001b[0;34m(\u001b[0m\u001b[0mfnc\u001b[0m\u001b[0;34m=\u001b[0m\u001b[0;34m'lin'\u001b[0m\u001b[0;34m)\u001b[0m\u001b[0;31m#, initpars=[0,0.5])\u001b[0m\u001b[0;34m\u001b[0m\u001b[0;34m\u001b[0m\u001b[0m\n",
      "\u001b[0;31mNameError\u001b[0m: name 'cl' is not defined"
     ]
    }
   ],
   "source": [
    "cal = cl.EnergyCalibration(ph)\n",
    "cal.set_polyorder(fnc='lin')#, initpars=[0,0.5])"
   ]
  },
  {
   "cell_type": "code",
   "execution_count": 6,
   "metadata": {},
   "outputs": [
    {
     "data": {
      "text/plain": [
       "{'chisq/ndf': 0.12500510507300408,\n",
       " 'p-value': 0.9453539823362043,\n",
       " 'opt': {'p0': (-0.08026582827304118, 0.09155791797966022),\n",
       "  'p1': (0.20484471527655146, 3.3450291049878554e-05)}}"
      ]
     },
     "execution_count": 6,
     "metadata": {},
     "output_type": "execute_result"
    }
   ],
   "source": [
    "cal.calibrate()"
   ]
  },
  {
   "cell_type": "code",
   "execution_count": 17,
   "metadata": {},
   "outputs": [
    {
     "data": {
      "application/vnd.jupyter.widget-view+json": {
       "model_id": "47e6980059c949148a4853b691cbb867",
       "version_major": 2,
       "version_minor": 0
      },
      "text/plain": [
       "Canvas(toolbar=Toolbar(toolitems=[('Home', 'Reset original view', 'home', 'home'), ('Back', 'Back to previous …"
      ]
     },
     "metadata": {},
     "output_type": "display_data"
    }
   ],
   "source": [
    "%matplotlib widget\n",
    "cal.plot_cal()"
   ]
  },
  {
   "cell_type": "code",
   "execution_count": 8,
   "metadata": {},
   "outputs": [
    {
     "data": {
      "text/plain": [
       "array([[2.31500000e+03, 4.74135250e+02, 4.29133589e+01, 1.85370881e-02],\n",
       "       [9.80000000e+01, 1.99945163e+01, 2.05589766e+00, 2.09785476e-02],\n",
       "       [3.21700000e+03, 6.58905183e+02, 4.97666864e+01, 1.54699056e-02],\n",
       "       ...,\n",
       "       [1.33000000e+03, 2.72363205e+02, 1.94586247e+01, 1.46305449e-02],\n",
       "       [2.89000000e+02, 5.91198569e+01, 5.82023660e+00, 2.01392270e-02],\n",
       "       [1.48700000e+03, 3.04523826e+02, 2.94316966e+01, 1.97926675e-02]])"
      ]
     },
     "execution_count": 8,
     "metadata": {},
     "output_type": "execute_result"
    }
   ],
   "source": [
    "calVec = cal.apply_cal(data=data)\n",
    "data"
   ]
  },
  {
   "cell_type": "code",
   "execution_count": 9,
   "metadata": {},
   "outputs": [
    {
     "data": {
      "application/vnd.jupyter.widget-view+json": {
       "model_id": "5545394da8ed47c58dd5e6df2f44ecb8",
       "version_major": 2,
       "version_minor": 0
      },
      "text/plain": [
       "Canvas(toolbar=Toolbar(toolitems=[('Home', 'Reset original view', 'home', 'home'), ('Back', 'Back to previous …"
      ]
     },
     "metadata": {},
     "output_type": "display_data"
    },
    {
     "data": {
      "text/plain": [
       "Text(0, 0.5, 'Counts')"
      ]
     },
     "execution_count": 9,
     "metadata": {},
     "output_type": "execute_result"
    }
   ],
   "source": [
    "%matplotlib widget\n",
    "c, e, p = plt.hist(data[:,1], bins=calVec, histtype='step')\n",
    "plt.semilogy()\n",
    "plt.xlabel(r'Energy [keV]')\n",
    "plt.ylabel(r'Counts')"
   ]
  },
  {
   "cell_type": "code",
   "execution_count": 10,
   "metadata": {},
   "outputs": [],
   "source": [
    "peak = hf.HistogramFitter(c, e)"
   ]
  },
  {
   "cell_type": "code",
   "execution_count": 11,
   "metadata": {},
   "outputs": [],
   "source": [
    "xlim = 640, 670\n",
    "\n",
    "shape = 'hyper'\n",
    "bkg = 'const'\n",
    "\n",
    "pars = {'ngaus': 10**6,\n",
    "        'mu'   : 659,\n",
    "        'sigma': 1,\n",
    "        'ntail': 10**3,\n",
    "        'ttail': 1.5,\n",
    "        'cstep': 50,\n",
    "        'p0'   : 10**1}"
   ]
  },
  {
   "cell_type": "code",
   "execution_count": 12,
   "metadata": {},
   "outputs": [],
   "source": [
    "peak.set_model((shape,bkg), xlim=xlim, initpars=pars)"
   ]
  },
  {
   "cell_type": "code",
   "execution_count": 13,
   "metadata": {},
   "outputs": [
    {
     "data": {
      "text/plain": [
       "{'chisq/ndf': 1.9182874762863102,\n",
       " 'p-value': 4.4508169953934007e-10,\n",
       " 'opt': {'ngaus': (111652.84602227544, 173.50477955451584),\n",
       "  'mu': (658.7755965678091, 0.0008822029845900892),\n",
       "  'sigma': (0.5717701402849213, 0.0006370077099593),\n",
       "  'ntail': (1093.5059061543006, 80.90619648991122),\n",
       "  'ttail': (1.2957968402820947, 0.09467933951313227),\n",
       "  'cstep': (21.701815911762118, 0.852404451477905),\n",
       "  'p0': (52.50383657948654, 1.0960513431261616)}}"
      ]
     },
     "execution_count": 13,
     "metadata": {},
     "output_type": "execute_result"
    }
   ],
   "source": [
    "peak.fit()"
   ]
  },
  {
   "cell_type": "code",
   "execution_count": 14,
   "metadata": {},
   "outputs": [],
   "source": [
    "peak.plot_fit()\n",
    "#peak.plot_components()"
   ]
  },
  {
   "cell_type": "code",
   "execution_count": 15,
   "metadata": {},
   "outputs": [
    {
     "data": {
      "text/plain": [
       "(112746.35192842974, 191.44116892331508)"
      ]
     },
     "execution_count": 15,
     "metadata": {},
     "output_type": "execute_result"
    }
   ],
   "source": [
    "peak.net_counts()"
   ]
  },
  {
   "cell_type": "code",
   "execution_count": 16,
   "metadata": {},
   "outputs": [
    {
     "data": {
      "text/plain": [
       "1.3540449910101415"
      ]
     },
     "execution_count": 16,
     "metadata": {},
     "output_type": "execute_result"
    }
   ],
   "source": [
    "peak.peak_width()"
   ]
  },
  {
   "cell_type": "code",
   "execution_count": null,
   "metadata": {},
   "outputs": [],
   "source": []
  }
 ],
 "metadata": {
  "kernelspec": {
   "display_name": "Python 3 (ipykernel)",
   "language": "python",
   "name": "python3"
  },
  "language_info": {
   "codemirror_mode": {
    "name": "ipython",
    "version": 3
   },
   "file_extension": ".py",
   "mimetype": "text/x-python",
   "name": "python",
   "nbconvert_exporter": "python",
   "pygments_lexer": "ipython3",
   "version": "3.8.10"
  }
 },
 "nbformat": 4,
 "nbformat_minor": 4
}
