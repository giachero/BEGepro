{
 "cells": [
  {
   "cell_type": "code",
   "execution_count": 1,
   "metadata": {},
   "outputs": [],
   "source": [
    "import numpy as np\n",
    "import matplotlib.pyplot as plt\n",
    "import pandas as pd\n",
    "import scipy.interpolate as intr"
   ]
  },
  {
   "cell_type": "code",
   "execution_count": 2,
   "metadata": {},
   "outputs": [],
   "source": [
    "effDf = pd.read_csv('../../data_base/EfficiencyDatabase.csv')"
   ]
  },
  {
   "cell_type": "code",
   "execution_count": 3,
   "metadata": {},
   "outputs": [
    {
     "data": {
      "application/vnd.jupyter.widget-view+json": {
       "model_id": "b5dee784e40448b78414e9c3ac74f435",
       "version_major": 2,
       "version_minor": 0
      },
      "text/plain": [
       "Canvas(toolbar=Toolbar(toolitems=[('Home', 'Reset original view', 'home', 'home'), ('Back', 'Back to previous …"
      ]
     },
     "metadata": {},
     "output_type": "display_data"
    }
   ],
   "source": [
    "%matplotlib widget\n",
    "plt.plot('aeCut', 'efficiency', data=effDf.loc[effDf['energy']==209], marker='.', linestyle='', label='209')\n",
    "plt.plot('aeCut', 'efficiency', data=effDf.loc[effDf['energy']==239], marker='.', linestyle='', label='239')\n",
    "plt.plot('aeCut', 'efficiency', data=effDf.loc[effDf['energy']==270], marker='.', linestyle='', label='270')\n",
    "plt.plot('aeCut', 'efficiency', data=effDf.loc[effDf['energy']==277], marker='.', linestyle='', label='277')\n",
    "plt.plot('aeCut', 'efficiency', data=effDf.loc[effDf['energy']==300], marker='.', linestyle='', label='300')\n",
    "plt.plot('aeCut', 'efficiency', data=effDf.loc[effDf['energy']==338], marker='.', linestyle='', label='338')\n",
    "plt.plot('aeCut', 'efficiency', data=effDf.loc[effDf['energy']==463], marker='.', linestyle='', label='463')\n",
    "plt.plot('aeCut', 'efficiency', data=effDf.loc[effDf['energy']==511], marker='.', linestyle='', label='511')\n",
    "plt.plot('aeCut', 'efficiency', data=effDf.loc[effDf['energy']==583], marker='.', linestyle='', label='583')\n",
    "plt.plot('aeCut', 'efficiency', data=effDf.loc[effDf['energy']==727], marker='.', linestyle='', label='727')\n",
    "plt.plot('aeCut', 'efficiency', data=effDf.loc[effDf['energy']==763], marker='.', linestyle='', label='763')\n",
    "plt.plot('aeCut', 'efficiency', data=effDf.loc[effDf['energy']==785], marker='.', linestyle='', label='785')\n",
    "plt.plot('aeCut', 'efficiency', data=effDf.loc[effDf['energy']==795], marker='.', linestyle='', label='795')\n",
    "plt.plot('aeCut', 'efficiency', data=effDf.loc[effDf['energy']==861], marker='.', linestyle='', label='861')\n",
    "plt.plot('aeCut', 'efficiency', data=effDf.loc[effDf['energy']==911], marker='.', linestyle='', label='911')\n",
    "plt.plot('aeCut', 'efficiency', data=effDf.loc[effDf['energy']==965], marker='.', linestyle='', label='965')\n",
    "plt.plot('aeCut', 'efficiency', data=effDf.loc[effDf['energy']==969], marker='.', linestyle='', label='969')\n",
    "plt.plot('aeCut', 'efficiency', data=effDf.loc[effDf['energy']==1588], marker='.', linestyle='', label='1588')\n",
    "plt.plot('aeCut', 'efficiency', data=effDf.loc[effDf['energy']==1621], marker='.', linestyle='', label='1621')\n",
    "plt.plot('aeCut', 'efficiency', data=effDf.loc[effDf['energy']==2615], marker='.', linestyle='', label='2615')\n",
    "plt.legend()\n",
    "plt.grid()\n",
    "plt.xlabel('A/E Upper Cut')\n",
    "plt.ylabel('Efficiency')\n",
    "plt.gca().invert_xaxis()"
   ]
  },
  {
   "cell_type": "code",
   "execution_count": 4,
   "metadata": {},
   "outputs": [
    {
     "data": {
      "application/vnd.jupyter.widget-view+json": {
       "model_id": "aed3ad21f0b24c47b46ea8ab4f12cf10",
       "version_major": 2,
       "version_minor": 0
      },
      "text/plain": [
       "Canvas(toolbar=Toolbar(toolitems=[('Home', 'Reset original view', 'home', 'home'), ('Back', 'Back to previous …"
      ]
     },
     "metadata": {},
     "output_type": "display_data"
    },
    {
     "data": {
      "text/plain": [
       "<matplotlib.legend.Legend at 0x7f42ddb45d90>"
      ]
     },
     "execution_count": 4,
     "metadata": {},
     "output_type": "execute_result"
    }
   ],
   "source": [
    "%matplotlib widget\n",
    "plt.plot('aeCut', 'effRelErr', data=effDf.loc[effDf['effRelErr']<100].loc[effDf['energy']==209], marker='.', linestyle='', label='209')\n",
    "plt.plot('aeCut', 'effRelErr', data=effDf.loc[effDf['effRelErr']<100].loc[effDf['energy']==239], marker='.', linestyle='', label='239')\n",
    "plt.plot('aeCut', 'effRelErr', data=effDf.loc[effDf['effRelErr']<100].loc[effDf['energy']==270], marker='.', linestyle='', label='270')\n",
    "plt.plot('aeCut', 'effRelErr', data=effDf.loc[effDf['effRelErr']<100].loc[effDf['energy']==277], marker='.', linestyle='', label='277')\n",
    "plt.plot('aeCut', 'effRelErr', data=effDf.loc[effDf['effRelErr']<100].loc[effDf['energy']==300], marker='.', linestyle='', label='300')\n",
    "plt.plot('aeCut', 'effRelErr', data=effDf.loc[effDf['effRelErr']<100].loc[effDf['energy']==338], marker='.', linestyle='', label='338')\n",
    "plt.plot('aeCut', 'effRelErr', data=effDf.loc[effDf['effRelErr']<100].loc[effDf['energy']==463], marker='.', linestyle='', label='463')\n",
    "plt.plot('aeCut', 'effRelErr', data=effDf.loc[effDf['effRelErr']<100].loc[effDf['energy']==511], marker='.', linestyle='', label='511')\n",
    "plt.plot('aeCut', 'effRelErr', data=effDf.loc[effDf['effRelErr']<100].loc[effDf['energy']==583], marker='.', linestyle='', label='583')\n",
    "plt.plot('aeCut', 'effRelErr', data=effDf.loc[effDf['effRelErr']<100].loc[effDf['energy']==727], marker='.', linestyle='', label='727')\n",
    "plt.plot('aeCut', 'effRelErr', data=effDf.loc[effDf['effRelErr']<100].loc[effDf['energy']==763], marker='.', linestyle='', label='763')\n",
    "plt.plot('aeCut', 'effRelErr', data=effDf.loc[effDf['effRelErr']<100].loc[effDf['energy']==785], marker='.', linestyle='', label='785')\n",
    "plt.plot('aeCut', 'effRelErr', data=effDf.loc[effDf['effRelErr']<100].loc[effDf['energy']==795], marker='.', linestyle='', label='795')\n",
    "plt.plot('aeCut', 'effRelErr', data=effDf.loc[effDf['effRelErr']<100].loc[effDf['energy']==861], marker='.', linestyle='', label='861')\n",
    "plt.plot('aeCut', 'effRelErr', data=effDf.loc[effDf['effRelErr']<100].loc[effDf['energy']==911], marker='.', linestyle='', label='911')\n",
    "plt.plot('aeCut', 'effRelErr', data=effDf.loc[effDf['effRelErr']<100].loc[effDf['energy']==965], marker='.', linestyle='', label='965')\n",
    "plt.plot('aeCut', 'effRelErr', data=effDf.loc[effDf['effRelErr']<100].loc[effDf['energy']==969], marker='.', linestyle='', label='969')\n",
    "plt.plot('aeCut', 'effRelErr', data=effDf.loc[effDf['effRelErr']<100].loc[effDf['energy']==1588], marker='.', linestyle='', label='1588')\n",
    "plt.plot('aeCut', 'effRelErr', data=effDf.loc[effDf['effRelErr']<100].loc[effDf['energy']==1621], marker='.', linestyle='', label='1621')\n",
    "plt.plot('aeCut', 'effRelErr', data=effDf.loc[effDf['effRelErr']<100].loc[effDf['energy']==2615], marker='.',linestyle='', label='2615')\n",
    "plt.gca().invert_xaxis()\n",
    "plt.ylabel('Relative Error (%)')\n",
    "plt.xlabel('A/E Upper Cut')\n",
    "plt.grid()\n",
    "plt.legend()"
   ]
  },
  {
   "cell_type": "code",
   "execution_count": 5,
   "metadata": {},
   "outputs": [],
   "source": [
    "cut = 0.018\n",
    "excluded = [763,785,965]"
   ]
  },
  {
   "cell_type": "code",
   "execution_count": 6,
   "metadata": {},
   "outputs": [],
   "source": [
    "intEff = intr.interp1d(effDf.loc[effDf['aeCut'] == cut].loc[~effDf['energy'].isin(excluded)]['energy'], \n",
    "                       effDf.loc[effDf['aeCut'] == cut].loc[~effDf['energy'].isin(excluded)]['efficiency'], \n",
    "                       kind='linear', fill_value='extrapolate')"
   ]
  },
  {
   "cell_type": "code",
   "execution_count": 7,
   "metadata": {},
   "outputs": [
    {
     "data": {
      "application/vnd.jupyter.widget-view+json": {
       "model_id": "04b8d47def1d409c8fa19d1f6054aeb4",
       "version_major": 2,
       "version_minor": 0
      },
      "text/plain": [
       "Canvas(toolbar=Toolbar(toolitems=[('Home', 'Reset original view', 'home', 'home'), ('Back', 'Back to previous …"
      ]
     },
     "metadata": {},
     "output_type": "display_data"
    },
    {
     "data": {
      "text/plain": [
       "[<matplotlib.lines.Line2D at 0x7f42e15a3e80>]"
      ]
     },
     "execution_count": 7,
     "metadata": {},
     "output_type": "execute_result"
    }
   ],
   "source": [
    "%matplotlib widget\n",
    "plt.plot('energy', 'efficiency', data=effDf.loc[effDf['aeCut'] == cut], linestyle='', marker='.')\n",
    "plt.plot(np.arange(200,2620,0.1), intEff(np.arange(200,2620,0.1)))"
   ]
  },
  {
   "cell_type": "code",
   "execution_count": null,
   "metadata": {},
   "outputs": [],
   "source": []
  }
 ],
 "metadata": {
  "kernelspec": {
   "display_name": "Python 3",
   "language": "python",
   "name": "python3"
  },
  "language_info": {
   "codemirror_mode": {
    "name": "ipython",
    "version": 3
   },
   "file_extension": ".py",
   "mimetype": "text/x-python",
   "name": "python",
   "nbconvert_exporter": "python",
   "pygments_lexer": "ipython3",
   "version": "3.8.10"
  }
 },
 "nbformat": 4,
 "nbformat_minor": 4
}
