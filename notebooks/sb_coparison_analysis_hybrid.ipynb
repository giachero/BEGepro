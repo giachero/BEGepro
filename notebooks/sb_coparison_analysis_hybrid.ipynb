{
 "cells": [
  {
   "attachments": {},
   "cell_type": "markdown",
   "metadata": {},
   "source": [
    "### Comparison between the A/E method and the hybrid approach autoencoder+A/E+classifier\n",
    "The hybrid approach consists of training the classifier NN with both deep encoded and A/E features."
   ]
  },
  {
   "cell_type": "code",
   "execution_count": 1,
   "metadata": {},
   "outputs": [
    {
     "name": "stderr",
     "output_type": "stream",
     "text": [
      "2023-02-10 10:31:17.999574: I tensorflow/core/platform/cpu_feature_guard.cc:193] This TensorFlow binary is optimized with oneAPI Deep Neural Network Library (oneDNN) to use the following CPU instructions in performance-critical operations:  AVX2 FMA\n",
      "To enable them in other operations, rebuild TensorFlow with the appropriate compiler flags.\n",
      "2023-02-10 10:31:18.363129: W tensorflow/compiler/xla/stream_executor/platform/default/dso_loader.cc:64] Could not load dynamic library 'libcudart.so.11.0'; dlerror: libcudart.so.11.0: cannot open shared object file: No such file or directory\n",
      "2023-02-10 10:31:18.363148: I tensorflow/compiler/xla/stream_executor/cuda/cudart_stub.cc:29] Ignore above cudart dlerror if you do not have a GPU set up on your machine.\n",
      "2023-02-10 10:31:19.391198: W tensorflow/compiler/xla/stream_executor/platform/default/dso_loader.cc:64] Could not load dynamic library 'libnvinfer.so.7'; dlerror: libnvinfer.so.7: cannot open shared object file: No such file or directory\n",
      "2023-02-10 10:31:19.391342: W tensorflow/compiler/xla/stream_executor/platform/default/dso_loader.cc:64] Could not load dynamic library 'libnvinfer_plugin.so.7'; dlerror: libnvinfer_plugin.so.7: cannot open shared object file: No such file or directory\n",
      "2023-02-10 10:31:19.391350: W tensorflow/compiler/tf2tensorrt/utils/py_utils.cc:38] TF-TRT Warning: Cannot dlopen some TensorRT libraries. If you would like to use Nvidia GPU with TensorRT, please make sure the missing libraries mentioned above are installed properly.\n"
     ]
    }
   ],
   "source": [
    "from begepro.autoencoder.sn_analysis import Comparison\n",
    "from begepro.autoencoder.dataloading import DataLoader, Dataset\n",
    "import numpy as np\n",
    "import matplotlib.pyplot as plt\n",
    "from begepro.autoencoder.autoencoder_classifier import Autoencoder, Classifier\n"
   ]
  },
  {
   "cell_type": "code",
   "execution_count": 2,
   "metadata": {},
   "outputs": [],
   "source": [
    "opts = {\"loadpath\": \"/mnt/e/BEGE_data/waveforms_crioconite\", # where .bin files are stored\n",
    "\"savepath\": \"../../dataset/Th232\", # where .npy files will be saved with readfiles() and loaded with load()\n",
    "\"subsampling_factor\": 3}\n",
    "\n",
    "dloader = DataLoader(opts)\n",
    "waveforms, _, energies, _, _ = dloader.load()\n",
    "\n",
    "opts_2 = {\"loadpath\": \"/mnt/e/BEGE_data/waveforms_crioconite\", # where .bin files are stored\n",
    "\"savepath\": \"../../dataset/Th232_2\", # where .npy files will be saved with readfiles() and loaded with load()\n",
    "\"subsampling_factor\": 3}\n",
    "\n",
    "dloader_2 = DataLoader(opts_2)\n",
    "waveforms_2, _, energies_2, _, _ = dloader_2.load()"
   ]
  },
  {
   "cell_type": "code",
   "execution_count": 3,
   "metadata": {},
   "outputs": [],
   "source": [
    "preds = np.load(\"../scripts/preds_hybrid.npy\")[:,0]\n",
    "ratio = np.load(\"../scripts/ratio.npy\")\n",
    "ratio_2 = np.load(\"../scripts/ratio_2.npy\")\n",
    "\n",
    "waveforms = np.concatenate([waveforms, waveforms_2])\n",
    "ratio = np.concatenate([ratio, ratio_2])\n",
    "energies = np.concatenate([energies, energies_2])"
   ]
  },
  {
   "cell_type": "code",
   "execution_count": 7,
   "metadata": {},
   "outputs": [],
   "source": [
    "comparison = Comparison(energies, ratio, preds)\n",
    "M_ELECTRON = 511\n",
    "cs = np.linspace(0.0, 0.7, 30)\n",
    "peaks = [2615, 2615 - 1*M_ELECTRON, 2615 - 2*M_ELECTRON, 1588, 1622, 1460, 860, 835, 409, 583, 2177]"
   ]
  },
  {
   "cell_type": "code",
   "execution_count": 8,
   "metadata": {},
   "outputs": [
    {
     "name": "stdout",
     "output_type": "stream",
     "text": [
      "Estimating S/B for peak at 2615 keV\n",
      "Estimating S/B for peak at 2104 keV\n",
      "Estimating S/B for peak at 1593 keV\n",
      "Estimating S/B for peak at 1588 keV\n",
      "Estimating S/B for peak at 1622 keV\n",
      "Estimating S/B for peak at 1460 keV\n",
      "Estimating S/B for peak at 860 keV\n",
      "Estimating S/B for peak at 835 keV\n",
      "Estimating S/B for peak at 409 keV\n",
      "Estimating S/B for peak at 583 keV\n",
      "Estimating S/B for peak at 2177 keV\n"
     ]
    }
   ],
   "source": [
    "sb_nn, std_sb_nn, sb_avse, std_sb_avse = comparison.compare(peaks, cs, benchmark = \"nn\")"
   ]
  },
  {
   "cell_type": "code",
   "execution_count": 9,
   "metadata": {},
   "outputs": [
    {
     "data": {
      "text/plain": [
       "<Figure size 640x480 with 0 Axes>"
      ]
     },
     "metadata": {},
     "output_type": "display_data"
    }
   ],
   "source": [
    "for n in range(len(peaks)):\n",
    "    plt.plot(cs, sb_nn[:,n])\n",
    "    plt.fill_between(cs, sb_nn[:,n] + std_sb_nn[:,n], sb_nn[:,n] - std_sb_nn[:,n],label='_nolegend_', alpha = 0.5)\n",
    "    plt.plot(cs, sb_avse[:,n])\n",
    "    plt.fill_between(cs, sb_avse[:,n] + std_sb_avse[:,n], sb_avse[:,n] - std_sb_avse[:,n],label='_nolegend_', alpha = 0.5)\n",
    "    plt.xlabel(\"NN score threshold\")\n",
    "    plt.ylabel(\"S/B ratio\")\n",
    "    plt.title(f\"Peak at {peaks[n]}keV\")\n",
    "    plt.legend([\"NN\", \"A/E\"])\n",
    "    plt.savefig(f\"../../results/z_peak_at_{peaks[n]}_122_sampling_hybrid.svg\")\n",
    "    plt.clf()"
   ]
  }
 ],
 "metadata": {
  "kernelspec": {
   "display_name": "begenv",
   "language": "python",
   "name": "python3"
  },
  "language_info": {
   "codemirror_mode": {
    "name": "ipython",
    "version": 3
   },
   "file_extension": ".py",
   "mimetype": "text/x-python",
   "name": "python",
   "nbconvert_exporter": "python",
   "pygments_lexer": "ipython3",
   "version": "3.10.6"
  },
  "orig_nbformat": 4,
  "vscode": {
   "interpreter": {
    "hash": "55e90ae3724885a0d2f8d7c06107a104f79c591ec2bd53488d3be04090aeb892"
   }
  }
 },
 "nbformat": 4,
 "nbformat_minor": 2
}
