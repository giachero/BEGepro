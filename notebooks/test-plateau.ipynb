{
 "cells": [
  {
   "cell_type": "code",
   "execution_count": 4,
   "id": "e95948bf",
   "metadata": {},
   "outputs": [],
   "source": [
    "%%capture\n",
    "#\"\"%matplotlib inline\n",
    "%matplotlib notebook\n",
    "\n",
    "%load_ext autoreload\n",
    "%autoreload 2\n",
    "\n",
    "%reset -f\n",
    "\n",
    "from importlib.machinery import SourceFileLoader\n",
    "u=SourceFileLoader('u','/home/marco/work/tesi/BEGepro/scripts/utils.py').load_module()\n",
    "\n",
    "import numpy as np\n",
    "import pylab as plt\n",
    "from matplotlib.lines import Line2D\n",
    "from begepro.rw import CAENhandler_new as ca\n",
    "\n",
    "import peakutils as pu\n",
    "from scipy.signal import savgol_filter"
   ]
  },
  {
   "cell_type": "code",
   "execution_count": 5,
   "id": "c8965b8a",
   "metadata": {},
   "outputs": [
    {
     "name": "stdout",
     "output_type": "stream",
     "text": [
      "136889\n"
     ]
    }
   ],
   "source": [
    "filename='/home/marco/work/tesi/data/Std-232Th-3Bq-AEcalibration-im010421/Std-232Th-3Bq-AEcalibration-im010421.npy'\n",
    "coll=ca.NPYreader(filename,True).get_event()\n",
    "print(coll.n_trace)"
   ]
  },
  {
   "cell_type": "code",
   "execution_count": 6,
   "id": "364e0e0a",
   "metadata": {},
   "outputs": [],
   "source": [
    "coll1=coll.subset('ae',0,1.6e-2)\n",
    "#coll1=coll.subset('energy',2102,2106)\n",
    "curr1=coll1.get_curr()\n",
    "trace1=coll.get_traces()\n",
    "coll2=coll.subset('ae',1.6e-2)\n",
    "curr2=coll2.get_curr()"
   ]
  },
  {
   "cell_type": "code",
   "execution_count": 7,
   "id": "b1da1fa5",
   "metadata": {},
   "outputs": [
    {
     "name": "stdout",
     "output_type": "stream",
     "text": [
      "end\n",
      "0.5339943342776204\n"
     ]
    }
   ],
   "source": [
    "#coll=coll.subset('ae',index=np.array([0]))\n",
    "ptot=u.plateau().compute_plateau(coll,7)\n",
    "pmse=u.plateau().compute_plateau(coll1,7)\n",
    "print('end')\n",
    "print(len(pmse)/len(ptot))"
   ]
  },
  {
   "cell_type": "code",
   "execution_count": null,
   "id": "1093cad4",
   "metadata": {},
   "outputs": [],
   "source": [
    "curr=coll.get_curr()\n",
    "trace=coll.get_traces()\n",
    "\n",
    "obj=u.rise_time()\n",
    "obj2=u.plateau()\n",
    "ptot2=np.array([])\n",
    "for i in range (0,len(curr)):\n",
    "    rt,t=obj.compute_rt(trace[i],4e-9)\n",
    "    a=obj2.compute_plateau3(curr[i],t,i)\n",
    "    ptot2=np.append(ptot2,a)\n",
    "    \n",
    "print(ptot2.size)"
   ]
  },
  {
   "cell_type": "code",
   "execution_count": null,
   "id": "8102c120",
   "metadata": {},
   "outputs": [],
   "source": [
    "print(len(ptot2)/len(ptot))"
   ]
  },
  {
   "cell_type": "code",
   "execution_count": null,
   "id": "fd99b436",
   "metadata": {},
   "outputs": [],
   "source": [
    "i=13861\n",
    "curr=coll.get_curr()[i]\n",
    "trace=coll.get_traces()[i]\n",
    "\n",
    "x=np.arange(0,len(trace))\n",
    "rt,t=u.rise_time().compute_rt(trace,4e-9)\n",
    "fig,axs=plt.subplots(2,figsize=(9,7))\n",
    "axs[0].plot(trace)\n",
    "axs[0].set_title('trace '+str(i))\n",
    "axs[0].plot(x[t[0] : t[1]+1],trace[t[0] : t[1]+1],color='r')\n",
    "axs[1].plot(curr)\n",
    "axs[1].set_title('curr '+str(i))\n",
    "axs[1].plot(x[t[0] : t[1]+1],curr[t[0] : t[1]+1],color='r')\n",
    "#plt.vlines(i[1],0,max(curr[i[0]]))\n"
   ]
  },
  {
   "cell_type": "code",
   "execution_count": null,
   "id": "e4a3980d",
   "metadata": {},
   "outputs": [],
   "source": [
    "p=0.004\n",
    "l=7\n",
    "\n",
    "res=list()\n",
    "diff=np.diff(curr)\n",
    "val=max(curr)*p\n",
    "c=0\n",
    "for i in range(t[0],t[1]+1): \n",
    "    diff=abs(curr-curr[i])\n",
    "    cond=diff<val\n",
    "    o=np.diff(np.where(np.concatenate(([cond[0]],cond[:-1] != cond[1:], [True])))[0])[::2]\n",
    "    for k in o:\n",
    "        if (k>l): \n",
    "            print(str(i)+' of lenght '+str(k))\n",
    "            res=res+list([(i,k)])\n",
    "\n",
    "if(all(np.equal(np.diff(np.array(res)[:,0]),np.full(len(res)-1,1)))):\n",
    "    res=np.array(list([(res[0][0],res[-1][0]-res[0][0])]))\n",
    "\n",
    "print(res)\n",
    "\n",
    "\n",
    "    #print('plateau at '+str(i))#+' file '+str(j))"
   ]
  },
  {
   "cell_type": "code",
   "execution_count": null,
   "id": "455abddf",
   "metadata": {},
   "outputs": [],
   "source": []
  }
 ],
 "metadata": {
  "kernelspec": {
   "display_name": "Python 3 (ipykernel)",
   "language": "python",
   "name": "python3"
  },
  "language_info": {
   "codemirror_mode": {
    "name": "ipython",
    "version": 3
   },
   "file_extension": ".py",
   "mimetype": "text/x-python",
   "name": "python",
   "nbconvert_exporter": "python",
   "pygments_lexer": "ipython3",
   "version": "3.8.10"
  }
 },
 "nbformat": 4,
 "nbformat_minor": 5
}
