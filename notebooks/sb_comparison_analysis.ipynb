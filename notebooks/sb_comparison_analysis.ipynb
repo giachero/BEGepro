{
 "cells": [
  {
   "attachments": {},
   "cell_type": "markdown",
   "metadata": {},
   "source": [
    "### Comparison between the A/E method and the Deep Learning autoencoder + classifier method\n",
    "This notebooks allows for comparing the two SSE/MSE classifiers in terms of S/B gain for peaks at different, customizable energies. For each peak, the Comparison class carries out the following analysis steps:\n",
    "- Selecting an energy region centered at the peak value +- a certain energy span.\n",
    "- Selecting MSE events inside the energy region with a first method (\"nn\" or \"avse\"), looping through a set of thresholds. The threshold for the second method is adjusted in order to match the same event number as the first method.\n",
    "- Estimating the S/B ratio and its standard deviation with robust fitting for each peak and threshold value."
   ]
  },
  {
   "cell_type": "code",
   "execution_count": 1,
   "metadata": {},
   "outputs": [],
   "source": [
    "from begepro.autoencoder.sn_analysis import Comparison, compute_threshold\n",
    "from begepro.autoencoder.dataloading import DataLoader, Dataset\n",
    "import numpy as np\n",
    "import matplotlib.pyplot as plt"
   ]
  },
  {
   "cell_type": "code",
   "execution_count": 2,
   "metadata": {},
   "outputs": [],
   "source": [
    "opts = {\"loadpath\": \"/mnt/e/BEGE_data/waveforms_crioconite\", # where .bin files are stored\n",
    "\"savepath\": \"../../dataset/Th232\", # where .npy files will be saved with readfiles() and loaded with load()\n",
    "\"subsampling_factor\": 3}\n",
    "\n",
    "dloader = DataLoader(opts)\n",
    "_, _, energies, _, _ = dloader.load()\n",
    "\n",
    "opts_2 = {\"loadpath\": \"/mnt/e/BEGE_data/waveforms_crioconite\", # where .bin files are stored\n",
    "\"savepath\": \"../../dataset/Th232_2\", # where .npy files will be saved with readfiles() and loaded with load()\n",
    "\"subsampling_factor\": 3}\n",
    "\n",
    "dloader_2 = DataLoader(opts_2)\n",
    "_, _, energies_2, _, _ = dloader_2.load()"
   ]
  },
  {
   "cell_type": "code",
   "execution_count": 3,
   "metadata": {},
   "outputs": [],
   "source": [
    "preds = np.load(\"../../preds_ratios/preds_Th232.npy\")[:,0]\n",
    "ratio = np.load(\"../../preds_ratios/ratios_Th232.npy\")\n",
    "\n",
    "energies = np.concatenate([energies, energies_2])\n",
    "test_mask = np.load(\"../../dataset/Th232_splitting_map/test.npy\")\n",
    "energies = energies[test_mask.astype(int)]"
   ]
  },
  {
   "cell_type": "code",
   "execution_count": 4,
   "metadata": {},
   "outputs": [
    {
     "data": {
      "image/png": "[encoded data removed]",
      "text/plain": [
       "<Figure size 640x480 with 1 Axes>"
      ]
     },
     "metadata": {},
     "output_type": "display_data"
    }
   ],
   "source": [
    "scoresel = 0.1\n",
    "predictions_nn = preds > scoresel\n",
    "enmask = np.logical_and(energies > 1568, energies < 1608)\n",
    "avse_threshold = compute_threshold(ratio[enmask], predictions_nn[enmask].sum(), \"avse\", stress_limit = 100000)\n",
    "nbins = 97\n",
    "# plt.hist(energies, range = [1568, 1608], bins = nbins, ec = \"red\", facecolor=\"white\")[-1]\n",
    "plt.hist(energies[predictions_nn], range = [1568, 1608], bins = nbins, ec = \"deepskyblue\", facecolor=\"white\", alpha = 0.5)[-1]\n",
    "plt.hist(energies[ratio < avse_threshold], range = [1568, 1608], bins = nbins, ec = \"yellow\", facecolor=\"white\", alpha = 0.5)[-1]\n",
    "# plt.hist(energies[predictions_nn], range = [468, 488], bins = nbins, ec = \"deepskyblue\", facecolor=\"white\")[-1]\n",
    "                                            \n",
    "plt.legend([\"Before selection\", f\"NN score > {scoresel}\", f\"A/E cut < {avse_threshold}\"])\n",
    "plt.yscale(\"log\")"
   ]
  },
  {
   "cell_type": "code",
   "execution_count": 5,
   "metadata": {},
   "outputs": [],
   "source": [
    "comparison = Comparison(energies, ratio, preds)\n",
    "M_ELECTRON = 511\n",
    "cs = np.linspace(0.0, 0.7, 70)\n",
    "peaks = [2615, 2615 - 1*M_ELECTRON, 2615 - 2*M_ELECTRON, 1588, 1622, 1460, 860, 835, 409, 583, 2177]\n"
   ]
  },
  {
   "cell_type": "code",
   "execution_count": 6,
   "metadata": {},
   "outputs": [
    {
     "name": "stdout",
     "output_type": "stream",
     "text": [
      "Estimating S/B for peak at 2615 keV\n",
      "Estimating S/B for peak at 2104 keV\n",
      "Estimating S/B for peak at 1593 keV\n"
     ]
    },
    {
     "name": "stderr",
     "output_type": "stream",
     "text": [
      "/home/rmoretti/BEGe/BEGepro/begepro/autoencoder/sn_analysis.py:111: UserWarning: The fit did not converge.\n",
      "  warnings.warn(\"The fit did not converge.\")\n"
     ]
    },
    {
     "name": "stdout",
     "output_type": "stream",
     "text": [
      "Estimating S/B for peak at 1588 keV\n",
      "Estimating S/B for peak at 1622 keV\n",
      "Estimating S/B for peak at 1460 keV\n",
      "Estimating S/B for peak at 860 keV\n",
      "Estimating S/B for peak at 835 keV\n",
      "Estimating S/B for peak at 409 keV\n",
      "Estimating S/B for peak at 583 keV\n",
      "Estimating S/B for peak at 2177 keV\n"
     ]
    }
   ],
   "source": [
    "sb_nn, std_sb_nn, sb_avse, std_sb_avse, avse_thresholds = comparison.compare(peaks, cs, benchmark = \"nn\", width=  20, nbins = 97)"
   ]
  },
  {
   "cell_type": "code",
   "execution_count": 7,
   "metadata": {},
   "outputs": [
    {
     "data": {
      "text/plain": [
       "<Figure size 640x480 with 0 Axes>"
      ]
     },
     "metadata": {},
     "output_type": "display_data"
    },
    {
     "data": {
      "text/plain": [
       "<Figure size 640x480 with 0 Axes>"
      ]
     },
     "metadata": {},
     "output_type": "display_data"
    },
    {
     "data": {
      "text/plain": [
       "<Figure size 640x480 with 0 Axes>"
      ]
     },
     "metadata": {},
     "output_type": "display_data"
    },
    {
     "data": {
      "text/plain": [
       "<Figure size 640x480 with 0 Axes>"
      ]
     },
     "metadata": {},
     "output_type": "display_data"
    },
    {
     "data": {
      "text/plain": [
       "<Figure size 640x480 with 0 Axes>"
      ]
     },
     "metadata": {},
     "output_type": "display_data"
    },
    {
     "data": {
      "text/plain": [
       "<Figure size 640x480 with 0 Axes>"
      ]
     },
     "metadata": {},
     "output_type": "display_data"
    },
    {
     "data": {
      "text/plain": [
       "<Figure size 640x480 with 0 Axes>"
      ]
     },
     "metadata": {},
     "output_type": "display_data"
    },
    {
     "data": {
      "text/plain": [
       "<Figure size 640x480 with 0 Axes>"
      ]
     },
     "metadata": {},
     "output_type": "display_data"
    },
    {
     "data": {
      "text/plain": [
       "<Figure size 640x480 with 0 Axes>"
      ]
     },
     "metadata": {},
     "output_type": "display_data"
    },
    {
     "data": {
      "text/plain": [
       "<Figure size 640x480 with 0 Axes>"
      ]
     },
     "metadata": {},
     "output_type": "display_data"
    },
    {
     "data": {
      "text/plain": [
       "<Figure size 640x480 with 0 Axes>"
      ]
     },
     "metadata": {},
     "output_type": "display_data"
    }
   ],
   "source": [
    "plt.rc('xtick', labelsize=8) \n",
    "for n in range(len(peaks)):\n",
    "    fig = plt.figure()\n",
    "    ax1 = fig.add_subplot(111)\n",
    "    ax2 = ax1.twiny()\n",
    "\n",
    "    ax1.plot(cs, sb_nn[:,n], color =  'deepskyblue')\n",
    "    ax1.fill_between(cs, sb_nn[:,n] + std_sb_nn[:,n], sb_nn[:,n] - std_sb_nn[:,n],label='_nolegend_', alpha = 0.5, color = 'skyblue')\n",
    "    ax1.plot(cs, sb_avse[:,n], color = 'red')\n",
    "    ax1.fill_between(cs, sb_avse[:,n] + std_sb_avse[:,n], sb_avse[:,n] - std_sb_avse[:,n], color = 'coral', label='_nolegend_', alpha = 0.5)\n",
    "\n",
    "    d = 10\n",
    "    new_tick_locations = np.array(cs[::d])\n",
    "\n",
    "    ax1.set_xticks(cs[::d])\n",
    "\n",
    "    ax1.set_xticklabels([\"> \"+str(round(float(c), 2)) for c in cs[::d]])\n",
    "\n",
    "    ax2.set_xlim(ax1.get_xlim())\n",
    "    ax2.set_xticks(cs[::d])\n",
    "    ax2.set_xticklabels([\"< \"+str(round(float(avse_threshold*100), 2)) for avse_threshold in avse_thresholds[::d,n]])\n",
    "\n",
    "    ax1.set_xlabel(\"NN score threshold\")\n",
    "    ax2.set_xlabel(\"A/E score threshold [x 100]\")\n",
    "    ax2.xaxis.set_ticks_position(\"bottom\")\n",
    "    ax2.xaxis.set_label_position(\"bottom\")\n",
    "    ax2.spines[\"bottom\"].set_position((\"axes\", -0.15))\n",
    "\n",
    "    ax1.set_ylabel(\"S/B ratio\")\n",
    "    plt.title(f\"Peak at {peaks[n]} keV\")\n",
    "    ax1.legend([\"NN\", \"A/E\"])\n",
    "    plt.savefig(f\"../../results/zz_peak_at_{peaks[n]}_122_sampling_.svg\", bbox_inches='tight')\n",
    "    plt.clf()"
   ]
  },
  {
   "attachments": {},
   "cell_type": "markdown",
   "metadata": {},
   "source": [
    "Visualizing the S/B estimation process"
   ]
  },
  {
   "cell_type": "code",
   "execution_count": 8,
   "metadata": {},
   "outputs": [],
   "source": [
    "from scipy.signal import find_peaks\n",
    "import warnings\n",
    "from begepro.autoencoder.sn_analysis import exclude_unwanted_peaks\n",
    "from scipy.optimize import curve_fit\n",
    "import numpy as np\n",
    "\n",
    "def sb_fit_function(x, a, b, mu, sigma, c):\n",
    "    return a * np.exp(-(x-mu)**2/(2*sigma**2)) + b + c*(x-mu)\n",
    "\n",
    "mu_true = 850 # Peak centre (expected)\n",
    "width = 20 # Fit width in keV\n",
    "nbins = 97# 97\n",
    "masked_energies = energies[np.logical_and(energies < mu_true + width, energies > mu_true - width)]\n",
    "\n",
    "hist = np.histogram(masked_energies, bins = nbins, range = [mu_true -width, mu_true +width])\n",
    "ydata = hist[0]\n",
    "xdata = (hist[1][:-1] +  hist[1][1:])/2 \n",
    "sigma = np.sqrt(ydata)/ydata.sum()\n",
    "sigma[sigma == 0] = 1\n",
    "ydata = ydata/ydata.sum()\n",
    "prominence = 0.001\n",
    "\n",
    "while True:\n",
    "    peaks, properties = find_peaks(ydata, prominence=prominence, width=1.5)\n",
    "    if len(peaks) > 0:\n",
    "        break\n",
    "    else:\n",
    "        prominence = prominence - 0.0001\n",
    "    if prominence < 0:\n",
    "        warnings.warn(\"No peaks found.\")\n",
    "\n",
    "a0 = 1\n",
    "b0 = 0\n",
    "mu0 = xdata[peaks[np.argmin(np.abs(xdata[peaks] - mu_true))]]\n",
    "sigma0 = 3\n",
    "c0 = 0\n",
    "\n",
    "fit_mask = exclude_unwanted_peaks(xdata, peaks, properties, mu0)\n",
    "xdata = xdata[fit_mask]\n",
    "ydata = ydata[fit_mask]\n",
    "sigma = sigma[fit_mask]\n",
    "\n",
    "xdata = xdata[3:-3]\n",
    "ydata = ydata[3:-3]\n",
    "\n",
    "sigma = np.sqrt(ydata)\n",
    "sigma[sigma == 0] = 1\n",
    "popt, pcov = curve_fit(sb_fit_function, xdata, ydata, p0 = [a0, b0, mu0, sigma0, c0], sigma = sigma, maxfev = 100000, bounds=((0, 0, 0, 0, -1e5), (1e5, 1e5, 3e3, 20, 1)), method = \"trf\")\n",
    "\n",
    "stds = np.sqrt(np.diag(pcov))\n",
    "bkg = popt[1]\n",
    "std_b = stds[1]\n",
    "sig = popt[0]\n",
    "std_s = stds[0]\n",
    "\n",
    "sb = sig/bkg\n",
    "std_sb = np.sqrt((std_s/bkg)**2 + (sig*std_b/bkg**2)**2 - sig/bkg**3*pcov[0, 1])"
   ]
  },
  {
   "cell_type": "code",
   "execution_count": 9,
   "metadata": {},
   "outputs": [
    {
     "data": {
      "text/plain": [
       "array([13, 24, 48, 73])"
      ]
     },
     "execution_count": 9,
     "metadata": {},
     "output_type": "execute_result"
    }
   ],
   "source": [
    "peaks"
   ]
  },
  {
   "cell_type": "code",
   "execution_count": 10,
   "metadata": {},
   "outputs": [
    {
     "data": {
      "text/plain": [
       "<matplotlib.legend.Legend at 0x7f5627dc9db0>"
      ]
     },
     "execution_count": 10,
     "metadata": {},
     "output_type": "execute_result"
    },
    {
     "data": {
      "image/png": "[encoded data removed]",
      "text/plain": [
       "<Figure size 640x480 with 1 Axes>"
      ]
     },
     "metadata": {},
     "output_type": "display_data"
    }
   ],
   "source": [
    "plt.hist(masked_energies, bins = nbins, range = [mu_true -width, mu_true +width], density = True)[-1]\n",
    "plt.plot(xdata, sb_fit_function(xdata, popt[0], popt[1], popt[2], popt[3], popt[4])/(xdata[1] - xdata[0]))\n",
    "plt.plot(xdata, ydata/(xdata[1] - xdata[0]), '*')\n",
    "plt.legend([\"Fit\", \"Fitted points\", \"Energy spectrum\"])"
   ]
  },
  {
   "cell_type": "code",
   "execution_count": 11,
   "metadata": {},
   "outputs": [
    {
     "data": {
      "text/plain": [
       "22.5"
      ]
     },
     "execution_count": 11,
     "metadata": {},
     "output_type": "execute_result"
    }
   ],
   "source": [
    "90/4"
   ]
  },
  {
   "cell_type": "code",
   "execution_count": null,
   "metadata": {},
   "outputs": [],
   "source": []
  }
 ],
 "metadata": {
  "kernelspec": {
   "display_name": "begenv",
   "language": "python",
   "name": "python3"
  },
  "language_info": {
   "codemirror_mode": {
    "name": "ipython",
    "version": 3
   },
   "file_extension": ".py",
   "mimetype": "text/x-python",
   "name": "python",
   "nbconvert_exporter": "python",
   "pygments_lexer": "ipython3",
   "version": "3.10.6"
  },
  "orig_nbformat": 4,
  "vscode": {
   "interpreter": {
    "hash": "55e90ae3724885a0d2f8d7c06107a104f79c591ec2bd53488d3be04090aeb892"
   }
  }
 },
 "nbformat": 4,
 "nbformat_minor": 2
}
