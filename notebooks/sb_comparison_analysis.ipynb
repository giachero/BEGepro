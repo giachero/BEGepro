{
 "cells": [
  {
   "attachments": {},
   "cell_type": "markdown",
   "metadata": {},
   "source": [
    "### Comparison between the A/E method and the Deep Learning autoencoder + classifier method\n",
    "This notebooks allows for comparing the two SSE/MSE classifiers in terms of S/B gain for peaks at different, customizable energies. For each peak, the Comparison class carries out the following analysis steps:\n",
    "- Selecting an energy region centered at the peak value +- a certain energy span.\n",
    "- Selecting MSE events inside the energy region with a first method (\"nn\" or \"avse\"), looping through a set of thresholds. The threshold for the second method is adjusted in order to match the same event number as the first method.\n",
    "- Estimating the S/B ratio and its standard deviation with robust fitting for each peak and threshold value."
   ]
  },
  {
   "cell_type": "code",
   "execution_count": 1,
   "metadata": {},
   "outputs": [],
   "source": [
    "from begepro.autoencoder.sn_analysis import Comparison\n",
    "from begepro.autoencoder.dataloading import DataLoader, Dataset\n",
    "import numpy as np\n",
    "import matplotlib.pyplot as plt"
   ]
  },
  {
   "cell_type": "code",
   "execution_count": 2,
   "metadata": {},
   "outputs": [],
   "source": [
    "opts = {\"loadpath\": \"/mnt/e/BEGE_data/waveforms_crioconite\", # where .bin files are stored\n",
    "\"savepath\": \"../../dataset/Th232\", # where .npy files will be saved with readfiles() and loaded with load()\n",
    "\"subsampling_factor\": 3}\n",
    "\n",
    "dloader = DataLoader(opts)\n",
    "_, _, energies, _, _ = dloader.load()\n",
    "\n",
    "opts_2 = {\"loadpath\": \"/mnt/e/BEGE_data/waveforms_crioconite\", # where .bin files are stored\n",
    "\"savepath\": \"../../dataset/Th232_2\", # where .npy files will be saved with readfiles() and loaded with load()\n",
    "\"subsampling_factor\": 3}\n",
    "\n",
    "dloader_2 = DataLoader(opts_2)\n",
    "_, _, energies_2, _, _ = dloader_2.load()"
   ]
  },
  {
   "cell_type": "code",
   "execution_count": 3,
   "metadata": {},
   "outputs": [],
   "source": [
    "preds = np.load(\"../scripts/preds.npy\")\n",
    "ratio = np.load(\"../scripts/ratio.npy\")\n",
    "preds_2 = np.load(\"../scripts/preds_2.npy\")\n",
    "ratio_2 = np.load(\"../scripts/ratio_2.npy\")\n",
    "\n",
    "energies = np.concatenate([energies, energies_2])\n",
    "preds = np.concatenate([preds, preds_2])\n",
    "ratio = np.concatenate([ratio, ratio_2])"
   ]
  },
  {
   "cell_type": "code",
   "execution_count": 4,
   "metadata": {},
   "outputs": [],
   "source": [
    "comparison = Comparison(energies, ratio, preds)\n",
    "M_ELECTRON = 511\n",
    "cs = np.linspace(0.015, 0.025, 30)\n",
    "peaks = [2615, 2615 - 1*M_ELECTRON, 2615 - 2*M_ELECTRON, 1588, 1622, 1460, 860, 835, 409, 583, 2177]\n"
   ]
  },
  {
   "cell_type": "code",
   "execution_count": 5,
   "metadata": {},
   "outputs": [
    {
     "name": "stdout",
     "output_type": "stream",
     "text": [
      "Estimating S/B for peak at 2615 keV\n",
      "Estimating S/B for peak at 2104 keV\n",
      "Estimating S/B for peak at 1593 keV\n",
      "Estimating S/B for peak at 1588 keV\n",
      "Estimating S/B for peak at 1622 keV\n",
      "Estimating S/B for peak at 1460 keV\n",
      "Estimating S/B for peak at 860 keV\n",
      "Estimating S/B for peak at 835 keV\n",
      "Estimating S/B for peak at 409 keV\n",
      "Estimating S/B for peak at 583 keV\n",
      "Estimating S/B for peak at 2177 keV\n"
     ]
    }
   ],
   "source": [
    "sb_nn, std_sb_nn, sb_avse, std_sb_avse = comparison.compare(peaks, cs, benchmark = \"avse\")"
   ]
  },
  {
   "cell_type": "code",
   "execution_count": 7,
   "metadata": {},
   "outputs": [
    {
     "data": {
      "text/plain": [
       "<Figure size 640x480 with 0 Axes>"
      ]
     },
     "metadata": {},
     "output_type": "display_data"
    }
   ],
   "source": [
    "for n in range(len(peaks)):\n",
    "    plt.plot(cs, sb_nn[:,n])\n",
    "    plt.fill_between(cs, sb_nn[:,n] + std_sb_nn[:,n], sb_nn[:,n] - std_sb_nn[:,n],label='_nolegend_', alpha = 0.5)\n",
    "    plt.plot(cs, sb_avse[:,n])\n",
    "    plt.fill_between(cs, sb_avse[:,n] + std_sb_avse[:,n], sb_avse[:,n] - std_sb_avse[:,n],label='_nolegend_', alpha = 0.5)\n",
    "    plt.xlabel(\"NN score threshold\")\n",
    "    plt.ylabel(\"S/B ratio\")\n",
    "    plt.title(f\"Peak at {peaks[n]}keV\")\n",
    "    plt.legend([\"NN\", \"A/E\"])\n",
    "    plt.savefig(f\"../../results/z_peak_at_{peaks[n]}_122_sampling.svg\")\n",
    "    plt.clf()"
   ]
  }
 ],
 "metadata": {
  "kernelspec": {
   "display_name": "begenv",
   "language": "python",
   "name": "python3"
  },
  "language_info": {
   "codemirror_mode": {
    "name": "ipython",
    "version": 3
   },
   "file_extension": ".py",
   "mimetype": "text/x-python",
   "name": "python",
   "nbconvert_exporter": "python",
   "pygments_lexer": "ipython3",
   "version": "3.10.6"
  },
  "orig_nbformat": 4,
  "vscode": {
   "interpreter": {
    "hash": "55e90ae3724885a0d2f8d7c06107a104f79c591ec2bd53488d3be04090aeb892"
   }
  }
 },
 "nbformat": 4,
 "nbformat_minor": 2
}
