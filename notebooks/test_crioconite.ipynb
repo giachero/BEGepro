{
 "cells": [
  {
   "cell_type": "code",
   "execution_count": 20,
   "metadata": {},
   "outputs": [],
   "source": [
    "from begepro.autoencoder.sn_analysis import Comparison, compute_threshold\n",
    "from begepro.autoencoder.dataloading import DataLoader, Dataset\n",
    "from begepro.autoencoder.autoencoder_classifier import Autoencoder, Classifier\n",
    "\n",
    "import numpy as np\n",
    "import matplotlib.pyplot as plt\n",
    "from tensorflow import keras"
   ]
  },
  {
   "cell_type": "code",
   "execution_count": 3,
   "metadata": {},
   "outputs": [],
   "source": [
    "opts = {\"loadpath\": \"/mnt/e/BEGE_data/waveforms_232Th\", # where .bin files are stored\n",
    "\"savepath\": \"../../dataset/Th232\", # where .npy files will be saved with readfiles() and loaded with load()\n",
    "\"subsampling_factor\": 3}\n",
    "dataloader = DataLoader(opts)\n",
    "waveforms, currents, energies, amplitudes, pulse_height = dataloader.load()\n"
   ]
  },
  {
   "cell_type": "code",
   "execution_count": 6,
   "metadata": {},
   "outputs": [],
   "source": [
    "autoencoder_class = Autoencoder()\n",
    "classifier_class = Classifier(input_size = 5)\n",
    "autoencoder_class.load_model(\"../../models/autoencoder\", \"../../models/encoder\")\n",
    "autoencoder = autoencoder_class.autoencoder\n",
    "encoder = autoencoder_class.encoder"
   ]
  },
  {
   "cell_type": "code",
   "execution_count": 7,
   "metadata": {},
   "outputs": [
    {
     "name": "stderr",
     "output_type": "stream",
     "text": [
      "2023-02-07 15:08:25.750357: W tensorflow/tsl/framework/cpu_allocator_impl.cc:82] Allocation of 971120000 exceeds 10% of free system memory.\n"
     ]
    },
    {
     "name": "stdout",
     "output_type": "stream",
     "text": [
      "62188/62188 [==============================] - 53s 850us/step\n"
     ]
    }
   ],
   "source": [
    "predictions, mus, stds = autoencoder_class.encode(waveforms)"
   ]
  },
  {
   "cell_type": "code",
   "execution_count": 12,
   "metadata": {},
   "outputs": [],
   "source": [
    "opts = {\"loadpath\": \"/mnt/e/BEGE_data/waveforms_crioconite\", # where .bin files are stored\n",
    "\"savepath\": \"../../dataset/crioconite\", # where .npy files will be saved with readfiles() and loaded with load()\n",
    "\"subsampling_factor\": 3}\n",
    "dataloader = DataLoader(opts)\n",
    "\n",
    "waveforms, currents, energies, amplitudes, pulse_height = dataloader.load()\n",
    "\n",
    "autoencoder_class = Autoencoder()\n",
    "classifier_class = Classifier(input_size = 5)\n",
    "autoencoder_class.load_model(\"../../models/autoencoder\", \"../../models/encoder\")\n",
    "classifier_class.load_model(\"../../models/classifier\")"
   ]
  },
  {
   "cell_type": "code",
   "execution_count": 13,
   "metadata": {},
   "outputs": [
    {
     "name": "stdout",
     "output_type": "stream",
     "text": [
      "   57/46875 [..............................] - ETA: 42s    "
     ]
    },
    {
     "name": "stderr",
     "output_type": "stream",
     "text": [
      "2023-02-07 15:11:48.381026: W tensorflow/tsl/framework/cpu_allocator_impl.cc:82] Allocation of 732000000 exceeds 10% of free system memory.\n"
     ]
    },
    {
     "name": "stdout",
     "output_type": "stream",
     "text": [
      "46875/46875 [==============================] - 41s 867us/step\n"
     ]
    }
   ],
   "source": [
    "predictions, _, _ = autoencoder_class.encode(waveforms, mus, stds)"
   ]
  },
  {
   "cell_type": "code",
   "execution_count": 15,
   "metadata": {},
   "outputs": [
    {
     "name": "stdout",
     "output_type": "stream",
     "text": [
      "46875/46875 [==============================] - 38s 808us/step\n"
     ]
    }
   ],
   "source": [
    "scores = classifier_class.classifier.predict(predictions)"
   ]
  },
  {
   "cell_type": "code",
   "execution_count": 16,
   "metadata": {},
   "outputs": [],
   "source": [
    "avse = amplitudes/pulse_height"
   ]
  },
  {
   "cell_type": "code",
   "execution_count": 78,
   "metadata": {},
   "outputs": [
    {
     "name": "stdout",
     "output_type": "stream",
     "text": [
      "0.01801778494335013\n"
     ]
    }
   ],
   "source": [
    "predictions_nn = scores[:,0] > 0.35\n",
    "avse_threshold = compute_threshold(avse, predictions_nn.sum(), \"avse\", stress_limit = 100000)\n",
    "print(avse_threshold)"
   ]
  },
  {
   "cell_type": "code",
   "execution_count": 117,
   "metadata": {},
   "outputs": [
    {
     "data": {
      "image/png": "[encoded data removed]",
      "text/plain": [
       "<Figure size 640x480 with 1 Axes>"
      ]
     },
     "metadata": {},
     "output_type": "display_data"
    }
   ],
   "source": [
    "nbins = 303\n",
    "plt.hist(energies, range = [300, 670], bins = nbins)[-1]\n",
    "plt.hist(energies[predictions_nn], range = [300, 670], bins = nbins, alpha = 0.5)[-1]\n",
    "plt.hist(energies[avse < avse_threshold], range = [300, 670], bins = nbins, alpha = 0.5)[-1]\n",
    "plt.xlabel(\"Energy [keV]\")\n",
    "plt.ylabel(\"Counts / \")\n",
    "plt.yscale(\"log\")"
   ]
  },
  {
   "cell_type": "code",
   "execution_count": null,
   "metadata": {},
   "outputs": [],
   "source": []
  }
 ],
 "metadata": {
  "kernelspec": {
   "display_name": "begenv",
   "language": "python",
   "name": "python3"
  },
  "language_info": {
   "codemirror_mode": {
    "name": "ipython",
    "version": 3
   },
   "file_extension": ".py",
   "mimetype": "text/x-python",
   "name": "python",
   "nbconvert_exporter": "python",
   "pygments_lexer": "ipython3",
   "version": "3.10.6"
  },
  "orig_nbformat": 4,
  "vscode": {
   "interpreter": {
    "hash": "55e90ae3724885a0d2f8d7c06107a104f79c591ec2bd53488d3be04090aeb892"
   }
  }
 },
 "nbformat": 4,
 "nbformat_minor": 2
}
