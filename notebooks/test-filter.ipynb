{
 "cells": [
  {
   "cell_type": "code",
   "execution_count": 1,
   "metadata": {},
   "outputs": [],
   "source": [
    "import numpy as np\n",
    "import matplotlib.pyplot as plt\n",
    "from begepro.rw import CAENhandler\n",
    "from begepro.dspro import filters as flt"
   ]
  },
  {
   "cell_type": "code",
   "execution_count": 3,
   "metadata": {},
   "outputs": [],
   "source": [
    "filename = '../../data/Fondo_22-07-2021_1/FILTERED/DataF_CH1@DT5725SB_10806_Fondo_22-07-2021_1.bin'\n",
    "rd = CAENhandler.compassReader(filename, calibrated=True)"
   ]
  },
  {
   "cell_type": "code",
   "execution_count": 30,
   "metadata": {},
   "outputs": [],
   "source": [
    "data = rd.get()"
   ]
  },
  {
   "cell_type": "code",
   "execution_count": 31,
   "metadata": {},
   "outputs": [],
   "source": [
    "raw_wf = np.array(data['trace'])"
   ]
  },
  {
   "cell_type": "code",
   "execution_count": 32,
   "metadata": {},
   "outputs": [
    {
     "data": {
      "application/vnd.jupyter.widget-view+json": {
       "model_id": "0a404c4089634a1da49e119466221c38",
       "version_major": 2,
       "version_minor": 0
      },
      "text/plain": [
       "Canvas(toolbar=Toolbar(toolitems=[('Home', 'Reset original view', 'home', 'home'), ('Back', 'Back to previous …"
      ]
     },
     "metadata": {},
     "output_type": "display_data"
    },
    {
     "data": {
      "text/plain": [
       "<matplotlib.legend.Legend at 0x7f48fe07b910>"
      ]
     },
     "execution_count": 32,
     "metadata": {},
     "output_type": "execute_result"
    }
   ],
   "source": [
    "%matplotlib widget\n",
    "plt.plot(4*np.linspace(0,len(data['trace']),num=len(data['trace'])), raw_wf, label='Input pulse')\n",
    "plt.xlabel(r'Time [ns]')\n",
    "plt.ylabel(r'ADC Channel')\n",
    "plt.legend()"
   ]
  },
  {
   "cell_type": "code",
   "execution_count": 34,
   "metadata": {},
   "outputs": [],
   "source": [
    "curr = flt.curr_filter(raw_wf)"
   ]
  },
  {
   "cell_type": "code",
   "execution_count": 35,
   "metadata": {},
   "outputs": [
    {
     "data": {
      "application/vnd.jupyter.widget-view+json": {
       "model_id": "4402f9c86dd848c99324047889a49dc0",
       "version_major": 2,
       "version_minor": 0
      },
      "text/plain": [
       "Canvas(toolbar=Toolbar(toolitems=[('Home', 'Reset original view', 'home', 'home'), ('Back', 'Back to previous …"
      ]
     },
     "metadata": {},
     "output_type": "display_data"
    },
    {
     "data": {
      "text/plain": [
       "<matplotlib.legend.Legend at 0x7f48fdef7fd0>"
      ]
     },
     "execution_count": 35,
     "metadata": {},
     "output_type": "execute_result"
    }
   ],
   "source": [
    "%matplotlib widget\n",
    "fig = plt.figure()\n",
    "ax = fig.add_subplot(111)\n",
    "\n",
    "carica = ax.plot(4*np.linspace(0,len(data['trace']),num=len(data['trace'])), raw_wf, \n",
    "                 label='Input pulse')\n",
    "ax.set_ylabel(r'ADC Channel')\n",
    "ax.set_xlabel(r'Time [ns]')\n",
    "\n",
    "ax2 = ax.twinx()\n",
    "corrente = ax2.plot(4*np.linspace(0,len(data['trace']),num=len(data['trace'])), curr, \n",
    "                    color='tab:red', label='Induced current')\n",
    "ax2.set_ylabel(r'Current [u.a.]')\n",
    "#plt.locator_params(axis='y', nbins=4)\n",
    "#plt.ticklabel_format(axis='y', style='sci', scilimits=(0,0))\n",
    "\n",
    "gr = carica + corrente \n",
    "labels = [l.get_label() for l in gr]\n",
    "ax.legend(gr, labels, loc=0)"
   ]
  },
  {
   "cell_type": "code",
   "execution_count": null,
   "metadata": {},
   "outputs": [],
   "source": []
  }
 ],
 "metadata": {
  "kernelspec": {
   "display_name": "Python 3",
   "language": "python",
   "name": "python3"
  },
  "language_info": {
   "codemirror_mode": {
    "name": "ipython",
    "version": 3
   },
   "file_extension": ".py",
   "mimetype": "text/x-python",
   "name": "python",
   "nbconvert_exporter": "python",
   "pygments_lexer": "ipython3",
   "version": "3.8.10"
  }
 },
 "nbformat": 4,
 "nbformat_minor": 4
}
